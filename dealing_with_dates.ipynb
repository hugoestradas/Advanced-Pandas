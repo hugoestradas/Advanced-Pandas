{
 "cells": [
  {
   "cell_type": "markdown",
   "metadata": {
    "collapsed": true,
    "pycharm": {
     "name": "#%% md\n"
    }
   },
   "source": [
    "Time series data is one of the most interesting and essential types of data that we work with.\n",
    "\n",
    "But dates often can be tricky to deal with.\n",
    "\n",
    "Thankfully, Pandas comes with an excellent set of methods that we can put to use."
   ]
  },
  {
   "cell_type": "code",
   "execution_count": 2,
   "outputs": [],
   "source": [
    "import pandas as pd"
   ],
   "metadata": {
    "collapsed": false,
    "pycharm": {
     "name": "#%%\n"
    }
   }
  },
  {
   "cell_type": "markdown",
   "source": [
    "To get started I'm going to generate a series of dates"
   ],
   "metadata": {
    "collapsed": false,
    "pycharm": {
     "name": "#%% md\n"
    }
   }
  },
  {
   "cell_type": "markdown",
   "source": [
    "The 'period_range' function in Pandas allow me to do that.\n",
    "\n",
    "By specifying the starting date, followed by the frequency, and the number of periods, I return a series of dates, which we'll pass into a dataframe."
   ],
   "metadata": {
    "collapsed": false,
    "pycharm": {
     "name": "#%% md\n"
    }
   }
  },
  {
   "cell_type": "code",
   "execution_count": 19,
   "outputs": [],
   "source": [
    "daterange = pd.period_range ('1/1/2022', freq='30d', periods=4)\n",
    "\n",
    "date_df = pd.DataFrame(data = daterange, columns = ['sample date'])"
   ],
   "metadata": {
    "collapsed": false,
    "pycharm": {
     "name": "#%%\n"
    }
   }
  },
  {
   "cell_type": "markdown",
   "source": [
    "Now I have a dataframe with 4 different dates, starting January 1st, 2022, and each is separated by 30 days.\n"
   ],
   "metadata": {
    "collapsed": false,
    "pycharm": {
     "name": "#%% md\n"
    }
   }
  },
  {
   "cell_type": "code",
   "execution_count": 20,
   "outputs": [
    {
     "data": {
      "text/plain": "  sample date\n0  2022-01-01\n1  2022-01-31\n2  2022-03-02\n3  2022-04-01",
      "text/html": "<div>\n<style scoped>\n    .dataframe tbody tr th:only-of-type {\n        vertical-align: middle;\n    }\n\n    .dataframe tbody tr th {\n        vertical-align: top;\n    }\n\n    .dataframe thead th {\n        text-align: right;\n    }\n</style>\n<table border=\"1\" class=\"dataframe\">\n  <thead>\n    <tr style=\"text-align: right;\">\n      <th></th>\n      <th>sample date</th>\n    </tr>\n  </thead>\n  <tbody>\n    <tr>\n      <th>0</th>\n      <td>2022-01-01</td>\n    </tr>\n    <tr>\n      <th>1</th>\n      <td>2022-01-31</td>\n    </tr>\n    <tr>\n      <th>2</th>\n      <td>2022-03-02</td>\n    </tr>\n    <tr>\n      <th>3</th>\n      <td>2022-04-01</td>\n    </tr>\n  </tbody>\n</table>\n</div>"
     },
     "execution_count": 20,
     "metadata": {},
     "output_type": "execute_result"
    }
   ],
   "source": [
    "date_df.head()"
   ],
   "metadata": {
    "collapsed": false,
    "pycharm": {
     "name": "#%%\n"
    }
   }
  },
  {
   "cell_type": "markdown",
   "source": [
    "One useful function when working with time series data is the 'diff' function.\n",
    "\n",
    "Diff will calculate the difference from a prior period. And in this sense operates similar to a SQL lag function.\n",
    "\n",
    "Let's see the difference from the prior date in my data."
   ],
   "metadata": {
    "collapsed": false,
    "pycharm": {
     "name": "#%% md\n"
    }
   }
  },
  {
   "cell_type": "code",
   "execution_count": 21,
   "outputs": [
    {
     "data": {
      "text/plain": "  sample date date difference\n0  2022-01-01             NaT\n1  2022-01-31     <30 * Days>\n2  2022-03-02     <30 * Days>\n3  2022-04-01     <30 * Days>",
      "text/html": "<div>\n<style scoped>\n    .dataframe tbody tr th:only-of-type {\n        vertical-align: middle;\n    }\n\n    .dataframe tbody tr th {\n        vertical-align: top;\n    }\n\n    .dataframe thead th {\n        text-align: right;\n    }\n</style>\n<table border=\"1\" class=\"dataframe\">\n  <thead>\n    <tr style=\"text-align: right;\">\n      <th></th>\n      <th>sample date</th>\n      <th>date difference</th>\n    </tr>\n  </thead>\n  <tbody>\n    <tr>\n      <th>0</th>\n      <td>2022-01-01</td>\n      <td>NaT</td>\n    </tr>\n    <tr>\n      <th>1</th>\n      <td>2022-01-31</td>\n      <td>&lt;30 * Days&gt;</td>\n    </tr>\n    <tr>\n      <th>2</th>\n      <td>2022-03-02</td>\n      <td>&lt;30 * Days&gt;</td>\n    </tr>\n    <tr>\n      <th>3</th>\n      <td>2022-04-01</td>\n      <td>&lt;30 * Days&gt;</td>\n    </tr>\n  </tbody>\n</table>\n</div>"
     },
     "execution_count": 21,
     "metadata": {},
     "output_type": "execute_result"
    }
   ],
   "source": [
    "date_df['date difference'] = date_df['sample date'].diff(periods=1)\n",
    "\n",
    "date_df"
   ],
   "metadata": {
    "collapsed": false,
    "pycharm": {
     "name": "#%%\n"
    }
   }
  },
  {
   "cell_type": "markdown",
   "source": [
    "Sure enough, my dates are 30 days apart."
   ],
   "metadata": {
    "collapsed": false,
    "pycharm": {
     "name": "#%% md\n"
    }
   }
  },
  {
   "cell_type": "markdown",
   "source": [
    "Now, often you'll want to take a date and convert it to the first day of the month. Similar to using a date trunc function in SQL.\n",
    "\n",
    "One easy method is to access the values property of my date column, then use 'astype datetime64' to convert to a data time.\n",
    "\n",
    "By passing 'M' between the square brackets, our date is now at the first of the month."
   ],
   "metadata": {
    "collapsed": false,
    "pycharm": {
     "name": "#%% md\n"
    }
   }
  },
  {
   "cell_type": "code",
   "execution_count": 22,
   "outputs": [
    {
     "data": {
      "text/plain": "  sample date date difference first of month\n0  2022-01-01             NaT     2022-01-01\n1  2022-01-31     <30 * Days>     2022-01-01\n2  2022-03-02     <30 * Days>     2022-03-01\n3  2022-04-01     <30 * Days>     2022-04-01",
      "text/html": "<div>\n<style scoped>\n    .dataframe tbody tr th:only-of-type {\n        vertical-align: middle;\n    }\n\n    .dataframe tbody tr th {\n        vertical-align: top;\n    }\n\n    .dataframe thead th {\n        text-align: right;\n    }\n</style>\n<table border=\"1\" class=\"dataframe\">\n  <thead>\n    <tr style=\"text-align: right;\">\n      <th></th>\n      <th>sample date</th>\n      <th>date difference</th>\n      <th>first of month</th>\n    </tr>\n  </thead>\n  <tbody>\n    <tr>\n      <th>0</th>\n      <td>2022-01-01</td>\n      <td>NaT</td>\n      <td>2022-01-01</td>\n    </tr>\n    <tr>\n      <th>1</th>\n      <td>2022-01-31</td>\n      <td>&lt;30 * Days&gt;</td>\n      <td>2022-01-01</td>\n    </tr>\n    <tr>\n      <th>2</th>\n      <td>2022-03-02</td>\n      <td>&lt;30 * Days&gt;</td>\n      <td>2022-03-01</td>\n    </tr>\n    <tr>\n      <th>3</th>\n      <td>2022-04-01</td>\n      <td>&lt;30 * Days&gt;</td>\n      <td>2022-04-01</td>\n    </tr>\n  </tbody>\n</table>\n</div>"
     },
     "execution_count": 22,
     "metadata": {},
     "output_type": "execute_result"
    }
   ],
   "source": [
    "date_df['first of month'] = date_df['sample date']. values. astype ('datetime64[M]')\n",
    "\n",
    "date_df"
   ],
   "metadata": {
    "collapsed": false,
    "pycharm": {
     "name": "#%%\n"
    }
   }
  },
  {
   "cell_type": "markdown",
   "source": [
    "Now, let me quickly check my data types."
   ],
   "metadata": {
    "collapsed": false,
    "pycharm": {
     "name": "#%% md\n"
    }
   }
  },
  {
   "cell_type": "code",
   "execution_count": 23,
   "outputs": [
    {
     "data": {
      "text/plain": "sample date           period[30D]\ndate difference            object\nfirst of month     datetime64[ns]\ndtype: object"
     },
     "execution_count": 23,
     "metadata": {},
     "output_type": "execute_result"
    }
   ],
   "source": [
    "date_df.dtypes"
   ],
   "metadata": {
    "collapsed": false,
    "pycharm": {
     "name": "#%%\n"
    }
   }
  },
  {
   "cell_type": "markdown",
   "source": [
    "As you can see, my original date is actually a period data type. I'll go ahead and convert that to a datatime64 timestamp, using the 'dt' accessor and the 'to_timestamp' function. This will help with further transformations."
   ],
   "metadata": {
    "collapsed": false,
    "pycharm": {
     "name": "#%% md\n"
    }
   }
  },
  {
   "cell_type": "code",
   "execution_count": 24,
   "outputs": [
    {
     "data": {
      "text/plain": "sample date        datetime64[ns]\ndate difference            object\nfirst of month     datetime64[ns]\ndtype: object"
     },
     "execution_count": 24,
     "metadata": {},
     "output_type": "execute_result"
    }
   ],
   "source": [
    "date_df['sample date'] = date_df['sample date'].dt. to_timestamp()\n",
    "date_df.dtypes"
   ],
   "metadata": {
    "collapsed": false,
    "pycharm": {
     "name": "#%%\n"
    }
   }
  },
  {
   "cell_type": "markdown",
   "source": [
    "Now, if I want to subtract two dates; no special treatment is involved. Just subtract them.\n",
    "\n",
    "Here I will the number of dates between my date and the first of the month."
   ],
   "metadata": {
    "collapsed": false,
    "pycharm": {
     "name": "#%% md\n"
    }
   }
  },
  {
   "cell_type": "code",
   "execution_count": 25,
   "outputs": [
    {
     "data": {
      "text/plain": "0    0 days\n1   30 days\n2    1 days\n3    0 days\ndtype: timedelta64[ns]"
     },
     "execution_count": 25,
     "metadata": {},
     "output_type": "execute_result"
    }
   ],
   "source": [
    "date_df['sample date'] - date_df['first of month' ]"
   ],
   "metadata": {
    "collapsed": false,
    "pycharm": {
     "name": "#%%\n"
    }
   }
  },
  {
   "cell_type": "markdown",
   "source": [
    "In a similar way, I can even subtract the date difference from above, and get the expected outcome."
   ],
   "metadata": {
    "collapsed": false,
    "pycharm": {
     "name": "#%% md\n"
    }
   }
  },
  {
   "cell_type": "code",
   "execution_count": 26,
   "outputs": [
    {
     "name": "stderr",
     "output_type": "stream",
     "text": [
      "/Library/Frameworks/Python.framework/Versions/3.9/lib/python3.9/site-packages/pandas/core/arrays/datetimelike.py:1187: PerformanceWarning: Adding/subtracting object-dtype array to DatetimeArray not vectorized\n",
      "  warnings.warn(\n"
     ]
    },
    {
     "data": {
      "text/plain": "0          NaT\n1   2022-01-01\n2   2022-01-31\n3   2022-03-02\ndtype: datetime64[ns]"
     },
     "execution_count": 26,
     "metadata": {},
     "output_type": "execute_result"
    }
   ],
   "source": [
    "date_df['sample date'] - date_df['date difference']"
   ],
   "metadata": {
    "collapsed": false,
    "pycharm": {
     "name": "#%%\n"
    }
   }
  },
  {
   "cell_type": "markdown",
   "source": [
    "Similarly, I can use the 'timedelta' function to specify a time spam you I'd like to add, or substract from my date."
   ],
   "metadata": {
    "collapsed": false,
    "pycharm": {
     "name": "#%% md\n"
    }
   }
  },
  {
   "cell_type": "code",
   "execution_count": 27,
   "outputs": [
    {
     "data": {
      "text/plain": "0   2021-12-02\n1   2022-01-01\n2   2022-01-31\n3   2022-03-02\nName: sample date, dtype: datetime64[ns]"
     },
     "execution_count": 27,
     "metadata": {},
     "output_type": "execute_result"
    }
   ],
   "source": [
    "date_df['sample date' ] - pd.Timedelta('30 d')"
   ],
   "metadata": {
    "collapsed": false,
    "pycharm": {
     "name": "#%%\n"
    }
   }
  },
  {
   "cell_type": "markdown",
   "source": [
    "Lastly, when working with date data types, Pandas has some several quick tricks accessible with the 'dt' accessor.\n",
    "\n",
    "Here, I'll return the actual day name corresponding to each of our dates with the 'dt.day_name' function."
   ],
   "metadata": {
    "collapsed": false,
    "pycharm": {
     "name": "#%% md\n"
    }
   }
  },
  {
   "cell_type": "code",
   "execution_count": 28,
   "outputs": [
    {
     "data": {
      "text/plain": "0     Saturday\n1       Monday\n2    Wednesday\n3       Friday\nName: sample date, dtype: object"
     },
     "execution_count": 28,
     "metadata": {},
     "output_type": "execute_result"
    }
   ],
   "source": [
    "date_df['sample date'].dt.day_name()"
   ],
   "metadata": {
    "collapsed": false,
    "pycharm": {
     "name": "#%%\n"
    }
   }
  },
  {
   "cell_type": "code",
   "execution_count": null,
   "outputs": [],
   "source": [],
   "metadata": {
    "collapsed": false,
    "pycharm": {
     "name": "#%%\n"
    }
   }
  }
 ],
 "metadata": {
  "kernelspec": {
   "display_name": "Python 3",
   "language": "python",
   "name": "python3"
  },
  "language_info": {
   "codemirror_mode": {
    "name": "ipython",
    "version": 2
   },
   "file_extension": ".py",
   "mimetype": "text/x-python",
   "name": "python",
   "nbconvert_exporter": "python",
   "pygments_lexer": "ipython2",
   "version": "2.7.6"
  }
 },
 "nbformat": 4,
 "nbformat_minor": 0
}
